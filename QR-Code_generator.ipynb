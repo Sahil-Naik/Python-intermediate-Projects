{
 "cells": [
  {
   "cell_type": "code",
   "execution_count": 11,
   "id": "5a00a7a4",
   "metadata": {},
   "outputs": [
    {
     "name": "stdout",
     "output_type": "stream",
     "text": [
      "Enter what to add to QR-code: Hello\n",
      "Enter filename to save as: test2\n",
      "QR-Code generated succesfully!\n"
     ]
    }
   ],
   "source": [
    "#This is a simple QR-code generator program\n",
    "#It prompts user to add their own information to the QR-code and save it with their desired name.\n",
    "\n",
    "import qrcode\n",
    "\n",
    "web_add = input(\"Enter what to add to QR-code: \")\n",
    "\n",
    "url = qrcode.make(web_add)\n",
    "\n",
    "save_as = input(\"Enter filename to save as: \")\n",
    "\n",
    "url.save(\"{}.png\".format(save_as))      #File will be always saved in '.png' format, which is compatible with most OS\n",
    "\n",
    "print(\"QR-Code generated succesfully!\")"
   ]
  }
 ],
 "metadata": {
  "kernelspec": {
   "display_name": "Python 3",
   "language": "python",
   "name": "python3"
  },
  "language_info": {
   "codemirror_mode": {
    "name": "ipython",
    "version": 3
   },
   "file_extension": ".py",
   "mimetype": "text/x-python",
   "name": "python",
   "nbconvert_exporter": "python",
   "pygments_lexer": "ipython3",
   "version": "3.8.8"
  }
 },
 "nbformat": 4,
 "nbformat_minor": 5
}
