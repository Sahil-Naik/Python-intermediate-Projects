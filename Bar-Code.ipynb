{
 "cells": [
  {
   "cell_type": "code",
   "execution_count": 4,
   "id": "3b2b324b",
   "metadata": {},
   "outputs": [
    {
     "data": {
      "text/plain": [
       "'new_code.png'"
      ]
     },
     "execution_count": 4,
     "metadata": {},
     "output_type": "execute_result"
    }
   ],
   "source": [
    "from barcode import EAN13\n",
    "from barcode.writer import ImageWriter\n",
    "\n",
    "# Enter the number you want to insert in our bar-code\n",
    "number = '5901234123457'\n",
    "\n",
    "my_code = EAN13(number, writer=ImageWriter())\n",
    "\n",
    "my_code.save(\"new_code\")"
   ]
  }
 ],
 "metadata": {
  "kernelspec": {
   "display_name": "Python 3",
   "language": "python",
   "name": "python3"
  },
  "language_info": {
   "codemirror_mode": {
    "name": "ipython",
    "version": 3
   },
   "file_extension": ".py",
   "mimetype": "text/x-python",
   "name": "python",
   "nbconvert_exporter": "python",
   "pygments_lexer": "ipython3",
   "version": "3.8.8"
  }
 },
 "nbformat": 4,
 "nbformat_minor": 5
}
